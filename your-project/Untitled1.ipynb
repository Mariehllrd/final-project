{
 "cells": [
  {
   "cell_type": "code",
   "execution_count": 5,
   "metadata": {},
   "outputs": [],
   "source": [
    "import cv2\n",
    "import face_recognition\n",
    "from PIL import Image, ImageDraw, ImageFilter\n",
    "\n",
    "img = Image.open('./image/img2.jpg')\n",
    "glasses = Image.open('imageedit_1_9641209111.png')"
   ]
  },
  {
   "cell_type": "code",
   "execution_count": 6,
   "metadata": {},
   "outputs": [],
   "source": [
    "eye_cascade = cv2.CascadeClassifier('haarcascade_eye.xml')\n",
    "face_cascade = cv2.CascadeClassifier('haarcascade_frontalface_default.xml')"
   ]
  },
  {
   "cell_type": "code",
   "execution_count": 7,
   "metadata": {},
   "outputs": [],
   "source": [
    "# find eyes position\n",
    "image = face_recognition.load_image_file(\"./image/img2.jpg\")\n",
    "\n",
    "face_locations = face_recognition.face_locations(image)\n",
    "face_landmarks_list = face_recognition.face_landmarks(image)\n",
    "\n",
    "for face in face_locations:\n",
    "for face_landmarks in face_landmarks_list:\n",
    "    left_eye = face_landmarks['left_eye']\n",
    "    right_eye = face_landmarks['right_eye']"
   ]
  },
  {
   "cell_type": "code",
   "execution_count": 8,
   "metadata": {},
   "outputs": [
    {
     "data": {
      "text/plain": [
       "[(2219, 1412),\n",
       " (2255, 1390),\n",
       " (2300, 1390),\n",
       " (2341, 1417),\n",
       " (2299, 1429),\n",
       " (2254, 1430)]"
      ]
     },
     "execution_count": 8,
     "metadata": {},
     "output_type": "execute_result"
    }
   ],
   "source": [
    "left_eye"
   ]
  },
  {
   "cell_type": "code",
   "execution_count": 9,
   "metadata": {},
   "outputs": [
    {
     "data": {
      "text/plain": [
       "[(2528, 1410),\n",
       " (2564, 1381),\n",
       " (2608, 1379),\n",
       " (2647, 1398),\n",
       " (2613, 1416),\n",
       " (2570, 1419)]"
      ]
     },
     "execution_count": 9,
     "metadata": {},
     "output_type": "execute_result"
    }
   ],
   "source": [
    "right_eye"
   ]
  },
  {
   "cell_type": "code",
   "execution_count": null,
   "metadata": {},
   "outputs": [],
   "source": []
  }
 ],
 "metadata": {
  "kernelspec": {
   "display_name": "Python 3",
   "language": "python",
   "name": "python3"
  },
  "language_info": {
   "codemirror_mode": {
    "name": "ipython",
    "version": 3
   },
   "file_extension": ".py",
   "mimetype": "text/x-python",
   "name": "python",
   "nbconvert_exporter": "python",
   "pygments_lexer": "ipython3",
   "version": "3.7.4"
  }
 },
 "nbformat": 4,
 "nbformat_minor": 4
}
