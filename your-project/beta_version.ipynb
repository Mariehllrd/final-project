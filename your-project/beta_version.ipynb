{
 "cells": [
  {
   "cell_type": "markdown",
   "metadata": {},
   "source": [
    "# Beta Version\n",
    "Create a mask to get only the face"
   ]
  },
  {
   "cell_type": "code",
   "execution_count": 9,
   "metadata": {},
   "outputs": [],
   "source": [
    "import cv2\n",
    "import sys\n",
    "import matplotlib.pyplot as plt\n",
    "import numpy as np\n",
    "\n",
    "from PIL import Image, ImageFilter, ImageDraw\n",
    "import face_recognition\n",
    "import dlib\n",
    "from skimage import measure  \n",
    "import scipy.ndimage as ndi  "
   ]
  },
  {
   "cell_type": "code",
   "execution_count": 15,
   "metadata": {},
   "outputs": [
    {
     "name": "stdout",
     "output_type": "stream",
     "text": [
      "I found 2 face(s) in this photograph.\n"
     ]
    }
   ],
   "source": [
    "# Load the jpg file into a numpy array\n",
    "image = face_recognition.load_image_file(\"test.jpg\")\n",
    "\n",
    "face_locations = face_recognition.face_locations(image)\n",
    "face_landmarks_list = face_recognition.face_landmarks(image)\n",
    "\n",
    "print(\"I found {} face(s) in this photograph.\".format(len(face_locations)))"
   ]
  },
  {
   "cell_type": "code",
   "execution_count": 21,
   "metadata": {},
   "outputs": [
    {
     "name": "stdout",
     "output_type": "stream",
     "text": [
      "A face is located at pixel location Top: 199, Left: 724, Bottom: 307, Right: 832\n",
      "A face is located at pixel location Top: 72, Left: 162, Bottom: 146, Right: 237\n"
     ]
    }
   ],
   "source": [
    "for face_location in face_locations:\n",
    "\n",
    "    # Print the location of each face in this image\n",
    "    top, right, bottom, left = face_location\n",
    "    print(\"A face is located at pixel location Top: {}, Left: {}, Bottom: {}, Right: {}\" \\\n",
    "          .format(top, left, bottom, right))"
   ]
  },
  {
   "cell_type": "code",
   "execution_count": 197,
   "metadata": {},
   "outputs": [],
   "source": [
    "mask = np.zeros(image.shape, dtype=np.uint8)"
   ]
  },
  {
   "cell_type": "code",
   "execution_count": 199,
   "metadata": {},
   "outputs": [
    {
     "name": "stdout",
     "output_type": "stream",
     "text": [
      "I found 2 face(s) in this photograph.\n"
     ]
    }
   ],
   "source": [
    "# Find all facial features in all the faces in the image\n",
    "face_landmarks_list = face_recognition.face_landmarks(image)\n",
    "\n",
    "print(\"I found {} face(s) in this photograph.\".format(len(face_landmarks_list)))\n",
    "\n",
    "# Create a PIL imagedraw object so we can draw on the picture\n",
    "pil_image = Image.fromarray(mask)#image)\n",
    "d = ImageDraw.Draw(pil_image)\n",
    "\n",
    "for face_landmarks in face_landmarks_list:\n",
    "\n",
    "    left_eyebrow_top = min(face_landmarks['left_eyebrow'], key = lambda t: t[1])\n",
    "    right_eyebrow_top = min(face_landmarks['right_eyebrow'], key = lambda t: t[1])\n",
    "    \n",
    "    points = []\n",
    "    points.insert(0, left_eyebrow_top)\n",
    "    points.insert(0, right_eyebrow_top)\n",
    "    points.insert(0, face_landmarks['chin'])\n",
    "    \n",
    "    cleaned = [j for i in points for j in i]\n",
    "    \n",
    "    d.polygon(cleaned, fill = 'white')\n",
    "\n",
    "# Show the picture\n",
    "pil_image.show()\n",
    "pil_image = pil_image.save(\"mask.jpg\") "
   ]
  },
  {
   "cell_type": "code",
   "execution_count": 201,
   "metadata": {},
   "outputs": [],
   "source": [
    "def soft_blur_with_mask(image: np.ndarray, mask: np.ndarray) -> np.ndarray:\n",
    "    assert len(mask.shape) == 2, mask.shape\n",
    "    # Create a blurred copy of the original image. This can take up to 1-2 seconds today, \n",
    "    # because the image is big (~5-10 Megapixels)\n",
    "    blurred_image = cv2.GaussianBlur(image, (221, 221), sigmaX=20, sigmaY=20)\n",
    "    image_height, image_width = image.shape[:2]\n",
    "    mask = cv2.resize(mask.astype(np.uint8), (image_width, image_height), \n",
    "                      interpolation=cv2.INTER_NEAREST)\n",
    "    # Blurring the mask itself to get a softer mask with no firm edges\n",
    "    mask = cv2.GaussianBlur(mask.astype(np.float32), (11, 11), 10, 10)[:, :, None]\n",
    "    mask = mask/255.0\n",
    "\n",
    "    # Take the blurred image where the mask it positive, and the original image where \n",
    "    # the image is original\n",
    "    return (mask * blurred_image + (1.0 - mask) * image).clip(0, 255.0).astype(np.uint8)"
   ]
  },
  {
   "cell_type": "code",
   "execution_count": null,
   "metadata": {},
   "outputs": [],
   "source": [
    "soft_blur_with_mask(image, )"
   ]
  }
 ],
 "metadata": {
  "kernelspec": {
   "display_name": "Python 3",
   "language": "python",
   "name": "python3"
  },
  "language_info": {
   "codemirror_mode": {
    "name": "ipython",
    "version": 3
   },
   "file_extension": ".py",
   "mimetype": "text/x-python",
   "name": "python",
   "nbconvert_exporter": "python",
   "pygments_lexer": "ipython3",
   "version": "3.7.4"
  }
 },
 "nbformat": 4,
 "nbformat_minor": 2
}
