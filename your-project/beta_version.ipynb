{
 "cells": [
  {
   "cell_type": "markdown",
   "metadata": {},
   "source": [
    "# Beta Version\n",
    "Create a mask to get only the face"
   ]
  },
  {
   "cell_type": "code",
   "execution_count": 9,
   "metadata": {},
   "outputs": [],
   "source": [
    "import cv2\n",
    "import sys\n",
    "import matplotlib.pyplot as plt\n",
    "import numpy as np\n",
    "\n",
    "from PIL import Image, ImageFilter, ImageDraw\n",
    "import face_recognition\n",
    "import dlib\n",
    "from skimage import measure  \n",
    "import scipy.ndimage as ndi  "
   ]
  },
  {
   "cell_type": "code",
   "execution_count": 15,
   "metadata": {},
   "outputs": [
    {
     "name": "stdout",
     "output_type": "stream",
     "text": [
      "I found 2 face(s) in this photograph.\n"
     ]
    }
   ],
   "source": [
    "# Load the jpg file into a numpy array\n",
    "image = face_recognition.load_image_file(\"test.jpg\")\n",
    "\n",
    "face_locations = face_recognition.face_locations(image)\n",
    "face_landmarks_list = face_recognition.face_landmarks(image)\n",
    "\n",
    "print(\"I found {} face(s) in this photograph.\".format(len(face_locations)))"
   ]
  },
  {
   "cell_type": "code",
   "execution_count": 21,
   "metadata": {},
   "outputs": [
    {
     "name": "stdout",
     "output_type": "stream",
     "text": [
      "A face is located at pixel location Top: 199, Left: 724, Bottom: 307, Right: 832\n",
      "A face is located at pixel location Top: 72, Left: 162, Bottom: 146, Right: 237\n"
     ]
    }
   ],
   "source": [
    "for face_location in face_locations:\n",
    "\n",
    "    # Print the location of each face in this image\n",
    "    top, right, bottom, left = face_location\n",
    "    print(\"A face is located at pixel location Top: {}, Left: {}, Bottom: {}, Right: {}\" \\\n",
    "          .format(top, left, bottom, right))"
   ]
  },
  {
   "cell_type": "code",
   "execution_count": 173,
   "metadata": {},
   "outputs": [
    {
     "name": "stdout",
     "output_type": "stream",
     "text": [
      "I found 2 face(s) in this photograph.\n"
     ]
    }
   ],
   "source": [
    "# Find all facial features in all the faces in the image\n",
    "face_landmarks_list = face_recognition.face_landmarks(image)\n",
    "\n",
    "print(\"I found {} face(s) in this photograph.\".format(len(face_landmarks_list)))\n",
    "\n",
    "# Create a PIL imagedraw object so we can draw on the picture\n",
    "pil_image = Image.fromarray(image)\n",
    "d = ImageDraw.Draw(pil_image)\n",
    "\n",
    "for face_landmarks in face_landmarks_list:\n",
    "\n",
    "    left_eyebrow_top = min(face_landmarks['left_eyebrow'], key = lambda t: t[1])\n",
    "    right_eyebrow_top = min(face_landmarks['right_eyebrow'], key = lambda t: t[1])\n",
    "    \n",
    "    points = []\n",
    "    points.insert(0, left_eyebrow_top)\n",
    "    points.insert(0, right_eyebrow_top)\n",
    "    points.insert(0, face_landmarks['chin'])\n",
    "    \n",
    "    cleaned = [j for i in points for j in i]\n",
    "    \n",
    "    d.polygon(cleaned, fill = 'white')\n",
    "\n",
    "# Show the picture\n",
    "pil_image.show()\n",
    "pil_image = pil_image.save(\"mask.jpg\") "
   ]
  },
  {
   "cell_type": "code",
   "execution_count": 174,
   "metadata": {},
   "outputs": [],
   "source": [
    "mask_test = face_recognition.load_image_file(\"mask.jpg\")"
   ]
  },
  {
   "cell_type": "code",
   "execution_count": 175,
   "metadata": {},
   "outputs": [
    {
     "data": {
      "text/plain": [
       "array([[[ 91,  52,  19],\n",
       "        [ 91,  56,  26],\n",
       "        [ 90,  64,  37],\n",
       "        ...,\n",
       "        [118, 112,  96],\n",
       "        [115, 109,  93],\n",
       "        [114, 108,  92]],\n",
       "\n",
       "       [[ 95,  56,  23],\n",
       "        [ 77,  42,  12],\n",
       "        [ 78,  52,  25],\n",
       "        ...,\n",
       "        [118, 112,  96],\n",
       "        [117, 111,  95],\n",
       "        [116, 110,  94]],\n",
       "\n",
       "       [[104,  63,  31],\n",
       "        [ 81,  46,  16],\n",
       "        [ 77,  50,  23],\n",
       "        ...,\n",
       "        [118, 111,  95],\n",
       "        [119, 112,  96],\n",
       "        [119, 112,  96]],\n",
       "\n",
       "       ...,\n",
       "\n",
       "       [[ 49,  42,  26],\n",
       "        [ 56,  49,  33],\n",
       "        [ 60,  53,  37],\n",
       "        ...,\n",
       "        [110,  95,  76],\n",
       "        [108,  93,  74],\n",
       "        [109,  94,  75]],\n",
       "\n",
       "       [[ 53,  46,  30],\n",
       "        [ 65,  58,  42],\n",
       "        [ 72,  65,  49],\n",
       "        ...,\n",
       "        [113,  98,  79],\n",
       "        [110,  95,  76],\n",
       "        [112,  97,  78]],\n",
       "\n",
       "       [[ 61,  54,  38],\n",
       "        [ 54,  47,  31],\n",
       "        [ 60,  53,  37],\n",
       "        ...,\n",
       "        [115, 100,  81],\n",
       "        [117, 102,  83],\n",
       "        [113,  98,  79]]], dtype=uint8)"
      ]
     },
     "execution_count": 175,
     "metadata": {},
     "output_type": "execute_result"
    }
   ],
   "source": [
    "mask_test"
   ]
  },
  {
   "cell_type": "code",
   "execution_count": 109,
   "metadata": {},
   "outputs": [
    {
     "data": {
      "text/plain": [
       "array([[[0., 0., 0.],\n",
       "        [0., 0., 0.],\n",
       "        [0., 0., 0.],\n",
       "        ...,\n",
       "        [0., 0., 0.],\n",
       "        [0., 0., 0.],\n",
       "        [0., 0., 0.]],\n",
       "\n",
       "       [[0., 0., 0.],\n",
       "        [0., 0., 0.],\n",
       "        [0., 0., 0.],\n",
       "        ...,\n",
       "        [0., 0., 0.],\n",
       "        [0., 0., 0.],\n",
       "        [0., 0., 0.]],\n",
       "\n",
       "       [[0., 0., 0.],\n",
       "        [0., 0., 0.],\n",
       "        [0., 0., 0.],\n",
       "        ...,\n",
       "        [0., 0., 0.],\n",
       "        [0., 0., 0.],\n",
       "        [0., 0., 0.]],\n",
       "\n",
       "       ...,\n",
       "\n",
       "       [[0., 0., 0.],\n",
       "        [0., 0., 0.],\n",
       "        [0., 0., 0.],\n",
       "        ...,\n",
       "        [0., 0., 0.],\n",
       "        [0., 0., 0.],\n",
       "        [0., 0., 0.]],\n",
       "\n",
       "       [[0., 0., 0.],\n",
       "        [0., 0., 0.],\n",
       "        [0., 0., 0.],\n",
       "        ...,\n",
       "        [0., 0., 0.],\n",
       "        [0., 0., 0.],\n",
       "        [0., 0., 0.]],\n",
       "\n",
       "       [[0., 0., 0.],\n",
       "        [0., 0., 0.],\n",
       "        [0., 0., 0.],\n",
       "        ...,\n",
       "        [0., 0., 0.],\n",
       "        [0., 0., 0.],\n",
       "        [0., 0., 0.]]])"
      ]
     },
     "execution_count": 109,
     "metadata": {},
     "output_type": "execute_result"
    }
   ],
   "source": [
    "mask = np.zeros(image.shape)\n",
    "mask\n",
    "mask = [point = 1 if point is  == nose_pixel else 0]\n"
   ]
  },
  {
   "cell_type": "code",
   "execution_count": null,
   "metadata": {},
   "outputs": [],
   "source": [
    "    ex_features = ['chin', 'left_eyebrow', 'right_eyebrow']\n",
    "    for facial_feature in ex_features:\n",
    "        d.polygon(face_landmarks[facial_feature])"
   ]
  }
 ],
 "metadata": {
  "kernelspec": {
   "display_name": "Python 3",
   "language": "python",
   "name": "python3"
  },
  "language_info": {
   "codemirror_mode": {
    "name": "ipython",
    "version": 3
   },
   "file_extension": ".py",
   "mimetype": "text/x-python",
   "name": "python",
   "nbconvert_exporter": "python",
   "pygments_lexer": "ipython3",
   "version": "3.7.4"
  }
 },
 "nbformat": 4,
 "nbformat_minor": 2
}
