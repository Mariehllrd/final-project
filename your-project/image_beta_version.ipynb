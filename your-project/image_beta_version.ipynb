{
 "cells": [
  {
   "cell_type": "markdown",
   "metadata": {},
   "source": [
    "# Beta Version\n",
    "Create a mask to get only the face"
   ]
  },
  {
   "cell_type": "code",
   "execution_count": 1,
   "metadata": {},
   "outputs": [],
   "source": [
    "import cv2\n",
    "import sys\n",
    "import matplotlib.pyplot as plt\n",
    "import numpy as np\n",
    "\n",
    "from PIL import Image, ImageFilter, ImageDraw\n",
    "import face_recognition\n",
    "import dlib\n",
    "from skimage import measure  \n",
    "import scipy.ndimage as ndi  "
   ]
  },
  {
   "cell_type": "code",
   "execution_count": 2,
   "metadata": {},
   "outputs": [
    {
     "name": "stdout",
     "output_type": "stream",
     "text": [
      "I found 2 face(s) in this photograph.\n"
     ]
    }
   ],
   "source": [
    "# Load the jpg file into a numpy array\n",
    "image = face_recognition.load_image_file(\"./image/test.jpg\")\n",
    "\n",
    "face_locations = face_recognition.face_locations(image)\n",
    "face_landmarks_list = face_recognition.face_landmarks(image)\n",
    "\n",
    "print(\"I found {} face(s) in this photograph.\".format(len(face_locations)))"
   ]
  },
  {
   "cell_type": "code",
   "execution_count": 3,
   "metadata": {},
   "outputs": [
    {
     "name": "stdout",
     "output_type": "stream",
     "text": [
      "A face is located at pixel location Top: 199, Left: 724, Bottom: 307, Right: 832\n",
      "A face is located at pixel location Top: 72, Left: 162, Bottom: 146, Right: 237\n"
     ]
    }
   ],
   "source": [
    "for face_location in face_locations:\n",
    "\n",
    "    # Print the location of each face in this image\n",
    "    top, right, bottom, left = face_location\n",
    "    print(\"A face is located at pixel location Top: {}, Left: {}, Bottom: {}, Right: {}\" \\\n",
    "          .format(top, left, bottom, right))"
   ]
  },
  {
   "cell_type": "code",
   "execution_count": 4,
   "metadata": {},
   "outputs": [],
   "source": [
    "# Create mask\n",
    "mask = np.zeros(image.shape, dtype=np.uint8)"
   ]
  },
  {
   "cell_type": "code",
   "execution_count": 5,
   "metadata": {},
   "outputs": [],
   "source": [
    "# Find all facial features in all the faces in the image\n",
    "face_landmarks_list = face_recognition.face_landmarks(image)\n",
    "\n",
    "# Create a PIL imagedraw object so we can draw on the picture\n",
    "pil_image = Image.fromarray(mask)\n",
    "d = ImageDraw.Draw(pil_image)\n",
    "\n",
    "# Create the mask\n",
    "for face_landmarks in face_landmarks_list:\n",
    "\n",
    "    left_eyebrow_top = min(face_landmarks['left_eyebrow'], key = lambda t: t[1])\n",
    "    right_eyebrow_top = min(face_landmarks['right_eyebrow'], key = lambda t: t[1])\n",
    "    \n",
    "    points = []\n",
    "    points.insert(0, left_eyebrow_top)\n",
    "    points.insert(0, right_eyebrow_top)\n",
    "    points.insert(0, face_landmarks['chin'])\n",
    "    \n",
    "    cleaned = [j for i in points for j in i]\n",
    "    \n",
    "    d.polygon(cleaned, fill = 'white')\n",
    "\n",
    "# deleting drawing as per pil doc    \n",
    "del d\n",
    "\n",
    "# Save the picture\n",
    "pil_image = pil_image.save(\"mask.jpg\") "
   ]
  },
  {
   "cell_type": "code",
   "execution_count": 6,
   "metadata": {},
   "outputs": [
    {
     "data": {
      "text/plain": [
       "True"
      ]
     },
     "execution_count": 6,
     "metadata": {},
     "output_type": "execute_result"
    }
   ],
   "source": [
    "# load the image and the mask\n",
    "img = cv2.imread(\"./image/test.jpg\")\n",
    "mask = cv2.imread(\"mask.jpg\")\n",
    "\n",
    "# confirming matching shape\n",
    "mask.shape == img.shape"
   ]
  },
  {
   "cell_type": "code",
   "execution_count": 7,
   "metadata": {},
   "outputs": [],
   "source": [
    "# applying mask\n",
    "blur = cv2.GaussianBlur(img, (23,23), 30)\n",
    "blurred_img = np.where(mask != 0, blur, img)"
   ]
  },
  {
   "cell_type": "code",
   "execution_count": 8,
   "metadata": {},
   "outputs": [
    {
     "data": {
      "text/plain": [
       "True"
      ]
     },
     "execution_count": 8,
     "metadata": {},
     "output_type": "execute_result"
    }
   ],
   "source": [
    "# Saving blurred picture\n",
    "cv2.imwrite('./result/beta.jpg', blurred_img)"
   ]
  }
 ],
 "metadata": {
  "kernelspec": {
   "display_name": "Python 3",
   "language": "python",
   "name": "python3"
  },
  "language_info": {
   "codemirror_mode": {
    "name": "ipython",
    "version": 3
   },
   "file_extension": ".py",
   "mimetype": "text/x-python",
   "name": "python",
   "nbconvert_exporter": "python",
   "pygments_lexer": "ipython3",
   "version": "3.7.4"
  }
 },
 "nbformat": 4,
 "nbformat_minor": 2
}
