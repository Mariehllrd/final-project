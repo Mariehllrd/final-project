{
 "cells": [
  {
   "cell_type": "code",
   "execution_count": 1,
   "metadata": {},
   "outputs": [],
   "source": [
    "# import the libraries\n",
    "import face_recognition\n",
    "import os\n",
    "import cv2\n",
    "import numpy as np\n",
    "from PIL import Image, ImageDraw"
   ]
  },
  {
   "cell_type": "code",
   "execution_count": 2,
   "metadata": {},
   "outputs": [],
   "source": [
    "# Import and encode Trump image\n",
    "trump_image = cv2.imread(\"donald_trump.jpg\")\n",
    "trump_encoding = face_recognition.face_encodings(trump_image)[0]"
   ]
  },
  {
   "cell_type": "code",
   "execution_count": 3,
   "metadata": {},
   "outputs": [],
   "source": [
    "# Import and encode Trump image as unknown\n",
    "unknown_image = cv2.imread(\"donald_trump_2.jpg\")\n",
    "unknown_encoding = face_recognition.face_encodings(unknown_image)[0]"
   ]
  },
  {
   "cell_type": "code",
   "execution_count": 4,
   "metadata": {},
   "outputs": [
    {
     "data": {
      "text/plain": [
       "[True]"
      ]
     },
     "execution_count": 4,
     "metadata": {},
     "output_type": "execute_result"
    }
   ],
   "source": [
    "# Compare faces\n",
    "face_recognition.compare_faces([trump_encoding], unknown_encoding)"
   ]
  },
  {
   "cell_type": "code",
   "execution_count": 5,
   "metadata": {},
   "outputs": [],
   "source": [
    "# Import and encore Macron image\n",
    "macron_image = cv2.imread(\"macron.jpeg\")\n",
    "macron_encoding = face_recognition.face_encodings(macron_image)[0]"
   ]
  },
  {
   "cell_type": "code",
   "execution_count": 6,
   "metadata": {},
   "outputs": [
    {
     "data": {
      "text/plain": [
       "[False]"
      ]
     },
     "execution_count": 6,
     "metadata": {},
     "output_type": "execute_result"
    }
   ],
   "source": [
    "# Compare faces\n",
    "face_recognition.compare_faces([trump_encoding], macron_encoding)"
   ]
  },
  {
   "cell_type": "code",
   "execution_count": 7,
   "metadata": {},
   "outputs": [],
   "source": [
    "# Drawing boxes with names\n",
    "known_face_encodings = [trump_encoding, macron_encoding]\n",
    "known_face_names = ['Donald Trump', 'Emmanuel Macron']"
   ]
  },
  {
   "cell_type": "code",
   "execution_count": 8,
   "metadata": {},
   "outputs": [],
   "source": [
    "# Load image\n",
    "group_image = cv2.imread(\"group.jpg\")"
   ]
  },
  {
   "cell_type": "code",
   "execution_count": 9,
   "metadata": {},
   "outputs": [],
   "source": [
    "# Find and encode faces\n",
    "face_locations = face_recognition.face_locations(group_image)\n",
    "face_encodings = face_recognition.face_encodings(\n",
    "    group_image, face_locations)[0]"
   ]
  },
  {
   "cell_type": "code",
   "execution_count": 10,
   "metadata": {},
   "outputs": [],
   "source": [
    "# Matches\n",
    "for (top, right, bottom, left) in face_locations:\n",
    "    face_encodings = [face_recognition.face_encodings(\n",
    "    group_image, face_locations)[0]\n",
    "    matches = face_recognition.compare_faces([known_face_encodings], face_encoding)\n",
    "    \n",
    "    for match in matches:\n",
    "        if True in match:\n",
    "\n",
    "            for (top, left, bottom, right) in face_locations:\n",
    "                cv2.rectangle(group_image, (left, top), (right, bottom), (0, 0, 255), 1)"
   ]
  },
  {
   "cell_type": "code",
   "execution_count": 11,
   "metadata": {},
   "outputs": [
    {
     "data": {
      "text/plain": [
       "True"
      ]
     },
     "execution_count": 11,
     "metadata": {},
     "output_type": "execute_result"
    }
   ],
   "source": [
    "cv2.imwrite('./result/face_rec.jpg', group_image)"
   ]
  },
  {
   "cell_type": "code",
   "execution_count": null,
   "metadata": {},
   "outputs": [],
   "source": []
  }
 ],
 "metadata": {
  "kernelspec": {
   "display_name": "Python 3",
   "language": "python",
   "name": "python3"
  },
  "language_info": {
   "codemirror_mode": {
    "name": "ipython",
    "version": 3
   },
   "file_extension": ".py",
   "mimetype": "text/x-python",
   "name": "python",
   "nbconvert_exporter": "python",
   "pygments_lexer": "ipython3",
   "version": "3.7.4"
  }
 },
 "nbformat": 4,
 "nbformat_minor": 4
}
