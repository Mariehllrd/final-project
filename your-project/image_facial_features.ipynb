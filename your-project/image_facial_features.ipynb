{
 "cells": [
  {
   "cell_type": "code",
   "execution_count": 2,
   "metadata": {},
   "outputs": [
    {
     "name": "stdout",
     "output_type": "stream",
     "text": [
      "I found 2 face(s) in this photograph.\n",
      "The chin in this face has the following points: [(752, 246), (750, 255), (750, 265), (752, 275), (755, 285), (758, 296), (762, 307), (767, 315), (777, 318), (790, 317), (805, 312), (821, 305), (835, 297), (845, 284), (849, 269), (850, 253), (852, 237)]\n",
      "The left_eyebrow in this face has the following points: [(750, 237), (752, 232), (756, 231), (762, 232), (767, 234)]\n",
      "The right_eyebrow in this face has the following points: [(779, 231), (788, 226), (798, 223), (809, 224), (818, 228)]\n",
      "The nose_bridge in this face has the following points: [(772, 241), (770, 248), (767, 254), (764, 261)]\n",
      "The nose_tip in this face has the following points: [(762, 268), (766, 270), (771, 271), (776, 269), (782, 266)]\n",
      "The left_eye in this face has the following points: [(757, 246), (760, 243), (764, 242), (769, 244), (765, 245), (761, 246)]\n",
      "The right_eye in this face has the following points: [(790, 241), (795, 238), (800, 237), (806, 239), (801, 240), (795, 241)]\n",
      "The top_lip in this face has the following points: [(764, 284), (764, 279), (768, 277), (772, 278), (777, 277), (787, 278), (798, 282), (795, 282), (778, 280), (773, 281), (769, 281), (766, 284)]\n",
      "The bottom_lip in this face has the following points: [(798, 282), (788, 288), (779, 292), (773, 293), (769, 293), (765, 290), (764, 284), (766, 284), (769, 286), (773, 286), (778, 285), (795, 282)]\n",
      "The chin in this face has the following points: [(151, 92), (151, 103), (152, 114), (155, 124), (160, 134), (168, 142), (177, 148), (187, 153), (196, 154), (204, 152), (209, 147), (215, 140), (219, 133), (221, 125), (223, 116), (224, 108), (224, 100)]\n",
      "The left_eyebrow in this face has the following points: [(168, 87), (175, 85), (181, 85), (188, 87), (193, 89)]\n",
      "The right_eyebrow in this face has the following points: [(208, 90), (212, 89), (217, 88), (220, 89), (223, 91)]\n",
      "The nose_bridge in this face has the following points: [(201, 98), (202, 105), (203, 111), (204, 118)]\n",
      "The nose_tip in this face has the following points: [(193, 119), (197, 121), (201, 123), (204, 122), (207, 120)]\n",
      "The left_eye in this face has the following points: [(176, 96), (180, 94), (185, 94), (189, 98), (184, 99), (180, 98)]\n",
      "The right_eye in this face has the following points: [(205, 100), (209, 96), (214, 96), (218, 99), (214, 101), (210, 101)]\n",
      "The top_lip in this face has the following points: [(180, 126), (188, 125), (195, 125), (199, 126), (203, 125), (207, 126), (209, 128), (207, 128), (203, 128), (199, 128), (195, 127), (182, 126)]\n",
      "The bottom_lip in this face has the following points: [(209, 128), (206, 134), (202, 137), (198, 138), (194, 137), (186, 133), (180, 126), (182, 126), (194, 133), (198, 133), (202, 133), (207, 128)]\n"
     ]
    }
   ],
   "source": [
    "from PIL import Image, ImageDraw\n",
    "import face_recognition\n",
    "\n",
    "# Load the jpg file into a numpy array\n",
    "image = face_recognition.load_image_file(\"./data/test.jpg\")\n",
    "\n",
    "# Find all facial features in all the faces in the image\n",
    "face_landmarks_list = face_recognition.face_landmarks(image)\n",
    "\n",
    "print(\"I found {} face(s) in this photograph.\".format(len(face_landmarks_list)))\n",
    "\n",
    "# Create a PIL imagedraw object so we can draw on the picture\n",
    "pil_image = Image.fromarray(image)\n",
    "d = ImageDraw.Draw(pil_image)\n",
    "\n",
    "for face_landmarks in face_landmarks_list:\n",
    "\n",
    "    # Print the location of each facial feature in this image\n",
    "    for facial_feature in face_landmarks.keys():\n",
    "        print(\"The {} in this face has the following points: {}\".format(facial_feature, face_landmarks[facial_feature]))\n",
    "\n",
    "    # Let's trace out each facial feature in the image with a line!\n",
    "    for facial_feature in face_landmarks.keys():\n",
    "        d.line(face_landmarks[facial_feature], width=2)\n",
    "\n",
    "# Show the picture\n",
    "pil_image.show()"
   ]
  },
  {
   "cell_type": "code",
   "execution_count": null,
   "metadata": {},
   "outputs": [],
   "source": []
  }
 ],
 "metadata": {
  "kernelspec": {
   "display_name": "Python 3",
   "language": "python",
   "name": "python3"
  },
  "language_info": {
   "codemirror_mode": {
    "name": "ipython",
    "version": 3
   },
   "file_extension": ".py",
   "mimetype": "text/x-python",
   "name": "python",
   "nbconvert_exporter": "python",
   "pygments_lexer": "ipython3",
   "version": "3.7.4"
  }
 },
 "nbformat": 4,
 "nbformat_minor": 2
}
