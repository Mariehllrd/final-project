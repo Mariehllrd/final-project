{
 "cells": [
  {
   "cell_type": "markdown",
   "metadata": {},
   "source": [
    "# Full version\n",
    "Create single function"
   ]
  },
  {
   "cell_type": "code",
   "execution_count": 1,
   "metadata": {},
   "outputs": [],
   "source": [
    "import cv2\n",
    "import sys\n",
    "import numpy as np\n",
    "\n",
    "from PIL import Image, ImageDraw\n",
    "import face_recognition"
   ]
  },
  {
   "cell_type": "code",
   "execution_count": 2,
   "metadata": {},
   "outputs": [],
   "source": [
    "def blurring(image_path):\n",
    "    # Load the jpg file into a numpy array\n",
    "    image = face_recognition.load_image_file(image_path)\n",
    "\n",
    "    # Get face and features location\n",
    "    face_locations = face_recognition.face_locations(image)\n",
    "    face_landmarks_list = face_recognition.face_landmarks(image)\n",
    "    \n",
    "    print(\"I found {} face(s) in this photograph.\".format(len(face_locations)))\n",
    "    \n",
    "    for face_location in face_locations:\n",
    "\n",
    "        # Print the location of each face in this image\n",
    "        top, right, bottom, left = face_location\n",
    "        print(\"A face is located at pixel location Top: {}, Left: {}, Bottom: {}, Right: {}\" \\\n",
    "              .format(top, left, bottom, right))\n",
    "        \n",
    "        # Create empty mask\n",
    "        mask = np.zeros(image.shape, dtype=np.uint8)\n",
    "        \n",
    "       # Create a PIL imagedraw object so we can draw on the picture\n",
    "        pil_image = Image.fromarray(mask)\n",
    "        d = ImageDraw.Draw(pil_image)\n",
    "    \n",
    "    # Draw mask\n",
    "    for face_landmarks in face_landmarks_list:\n",
    "\n",
    "        left_eyebrow_top = min(face_landmarks['left_eyebrow'], key = lambda t: t[1])\n",
    "        right_eyebrow_top = min(face_landmarks['right_eyebrow'], key = lambda t: t[1])\n",
    "\n",
    "        points = []\n",
    "        points.insert(0, left_eyebrow_top)\n",
    "        points.insert(0, right_eyebrow_top)\n",
    "        points.insert(0, face_landmarks['chin'])\n",
    "\n",
    "        cleaned = [j for i in points for j in i]\n",
    "\n",
    "        d.polygon(cleaned, fill = 'white')\n",
    "    \n",
    "    # deleting drawing as per pil doc    \n",
    "    del d\n",
    "    \n",
    "    # saving mask\n",
    "    pil_image = pil_image.save(\"mask.jpg\") \n",
    "    \n",
    "    # Load the image and the mask\n",
    "    img = cv2.imread(image_path)\n",
    "    mask = cv2.imread(\"mask.jpg\")\n",
    "    \n",
    "    # Confirm matching shape\n",
    "    print(mask.shape == img.shape)\n",
    " \n",
    "    # Apply mask\n",
    "    blur = cv2.GaussianBlur(img, (45,45), 30)\n",
    "    blurred_img = np.where(mask != 0, blur, img)\n",
    "    \n",
    "    cv2.imwrite((f'./result/{top}.jpg'), blurred_img)"
   ]
  },
  {
   "cell_type": "code",
   "execution_count": 3,
   "metadata": {
    "scrolled": true
   },
   "outputs": [
    {
     "name": "stdout",
     "output_type": "stream",
     "text": [
      "I found 2 face(s) in this photograph.\n",
      "A face is located at pixel location Top: 122, Left: 73, Bottom: 184, Right: 135\n",
      "A face is located at pixel location Top: 49, Left: 239, Bottom: 101, Right: 291\n",
      "True\n"
     ]
    }
   ],
   "source": [
    "blurring(\"./data/img2.jpg\")"
   ]
  }
 ],
 "metadata": {
  "kernelspec": {
   "display_name": "Python 3",
   "language": "python",
   "name": "python3"
  },
  "language_info": {
   "codemirror_mode": {
    "name": "ipython",
    "version": 3
   },
   "file_extension": ".py",
   "mimetype": "text/x-python",
   "name": "python",
   "nbconvert_exporter": "python",
   "pygments_lexer": "ipython3",
   "version": "3.7.4"
  }
 },
 "nbformat": 4,
 "nbformat_minor": 2
}
