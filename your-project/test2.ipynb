{
 "cells": [
  {
   "cell_type": "code",
   "execution_count": 23,
   "metadata": {},
   "outputs": [],
   "source": [
    "import cv2\n",
    "import sys\n",
    "import matplotlib.pyplot as plt\n",
    "import numpy as np\n",
    "\n",
    "import face_recognition\n",
    "from PIL import Image"
   ]
  },
  {
   "cell_type": "code",
   "execution_count": 24,
   "metadata": {},
   "outputs": [],
   "source": [
    "image = face_recognition.load_image_file(\"test.jpg\")\n",
    "face_locations = face_recognition.face_locations(image)"
   ]
  },
  {
   "cell_type": "code",
   "execution_count": 36,
   "metadata": {},
   "outputs": [
    {
     "name": "stdout",
     "output_type": "stream",
     "text": [
      "I found 2 face(s) in this photograph.\n",
      "A face is located at pixel location Top: 199, Left: 724, Bottom: 307, Right: 832\n",
      "A face is located at pixel location Top: 72, Left: 162, Bottom: 146, Right: 237\n"
     ]
    }
   ],
   "source": [
    "print(\"I found {} face(s) in this photograph.\".format(len(face_locations)))\n",
    "\n",
    "for face_location in face_locations:\n",
    "\n",
    "    # Print the location of each face in this image\n",
    "    top, right, bottom, left = face_location\n",
    "    print(\"A face is located at pixel location Top: {}, Left: {}, Bottom: {}, Right: {}\" \\\n",
    "          .format(top, left, bottom, right))\n",
    "    \n",
    "    # Blur faces\n",
    "    face_image = image[top:bottom, left:right]\n",
    "    blur = cv2.GaussianBlur(face_image, (99, 99), 30)\n",
    "    image[top:bottom, left:right] = blur\n",
    "    pil_image = Image.fromarray(image)\n",
    "    pil_image.show()"
   ]
  },
  {
   "cell_type": "code",
   "execution_count": 35,
   "metadata": {},
   "outputs": [
    {
     "name": "stdout",
     "output_type": "stream",
     "text": [
      "I found 2 face(s) in this photograph.\n",
      "The chin in this face has the following points: [(752, 246), (750, 255), (750, 265), (752, 275), (755, 285), (758, 296), (762, 307), (767, 315), (777, 318), (790, 317), (805, 312), (821, 305), (835, 297), (845, 284), (849, 269), (850, 253), (852, 237)]\n",
      "The left_eyebrow in this face has the following points: [(750, 237), (752, 232), (756, 231), (762, 232), (767, 234)]\n",
      "The right_eyebrow in this face has the following points: [(779, 231), (788, 226), (798, 223), (809, 224), (818, 228)]\n",
      "The nose_bridge in this face has the following points: [(772, 241), (770, 248), (767, 254), (764, 261)]\n",
      "The nose_tip in this face has the following points: [(762, 268), (766, 270), (771, 271), (776, 269), (782, 266)]\n",
      "The left_eye in this face has the following points: [(757, 246), (760, 243), (764, 242), (769, 244), (765, 245), (761, 246)]\n",
      "The right_eye in this face has the following points: [(790, 241), (795, 238), (800, 237), (806, 239), (801, 240), (795, 241)]\n",
      "The top_lip in this face has the following points: [(764, 284), (764, 279), (768, 277), (772, 278), (777, 277), (787, 278), (798, 282), (795, 282), (778, 280), (773, 281), (769, 281), (766, 284)]\n",
      "The bottom_lip in this face has the following points: [(798, 282), (788, 288), (779, 292), (773, 293), (769, 293), (765, 290), (764, 284), (766, 284), (769, 286), (773, 286), (778, 285), (795, 282)]\n"
     ]
    },
    {
     "ename": "TypeError",
     "evalue": "'GaussianBlur' object is not callable",
     "output_type": "error",
     "traceback": [
      "\u001b[0;31m---------------------------------------------------------------------------\u001b[0m",
      "\u001b[0;31mTypeError\u001b[0m                                 Traceback (most recent call last)",
      "\u001b[0;32m<ipython-input-35-b74d910be34d>\u001b[0m in \u001b[0;36m<module>\u001b[0;34m\u001b[0m\n\u001b[1;32m     22\u001b[0m     \u001b[0;31m# Let's trace out each facial feature in the image with a line!\u001b[0m\u001b[0;34m\u001b[0m\u001b[0;34m\u001b[0m\u001b[0;34m\u001b[0m\u001b[0m\n\u001b[1;32m     23\u001b[0m     \u001b[0;32mfor\u001b[0m \u001b[0mfacial_feature\u001b[0m \u001b[0;32min\u001b[0m \u001b[0mface_landmarks\u001b[0m\u001b[0;34m.\u001b[0m\u001b[0mkeys\u001b[0m\u001b[0;34m(\u001b[0m\u001b[0;34m)\u001b[0m\u001b[0;34m:\u001b[0m\u001b[0;34m\u001b[0m\u001b[0;34m\u001b[0m\u001b[0m\n\u001b[0;32m---> 24\u001b[0;31m         \u001b[0mblur\u001b[0m\u001b[0;34m(\u001b[0m\u001b[0mface_landmarks\u001b[0m\u001b[0;34m[\u001b[0m\u001b[0mfacial_feature\u001b[0m\u001b[0;34m]\u001b[0m\u001b[0;34m,\u001b[0m \u001b[0mwidth\u001b[0m\u001b[0;34m=\u001b[0m\u001b[0;36m5\u001b[0m\u001b[0;34m)\u001b[0m\u001b[0;34m\u001b[0m\u001b[0;34m\u001b[0m\u001b[0m\n\u001b[0m\u001b[1;32m     25\u001b[0m \u001b[0;34m\u001b[0m\u001b[0m\n\u001b[1;32m     26\u001b[0m \u001b[0;31m# Show the picture\u001b[0m\u001b[0;34m\u001b[0m\u001b[0;34m\u001b[0m\u001b[0;34m\u001b[0m\u001b[0m\n",
      "\u001b[0;31mTypeError\u001b[0m: 'GaussianBlur' object is not callable"
     ]
    }
   ],
   "source": [
    "from PIL import Image, ImageFilter\n",
    "import face_recognition\n",
    "\n",
    "# Load the jpg file into a numpy array\n",
    "image = face_recognition.load_image_file(\"test.jpg\")\n",
    "\n",
    "# Find all facial features in all the faces in the image\n",
    "face_landmarks_list = face_recognition.face_landmarks(image)\n",
    "\n",
    "print(\"I found {} face(s) in this photograph.\".format(len(face_landmarks_list)))\n",
    "\n",
    "# Create a PIL imagedraw object so we can draw on the picture\n",
    "pil_image = Image.fromarray(image)\n",
    "blur = ImageFilter.GaussianBlur(radius=2)\n",
    "\n",
    "for face_landmarks in face_landmarks_list:\n",
    "\n",
    "    # Print the location of each facial feature in this image\n",
    "    for facial_feature in face_landmarks.keys():\n",
    "        print(\"The {} in this face has the following points: {}\".format(facial_feature, face_landmarks[facial_feature]))\n",
    "\n",
    "    # Let's trace out each facial feature in the image with a line!\n",
    "    for facial_feature in face_landmarks.keys():\n",
    "        blur(face_landmarks[facial_feature], width=5)\n",
    "\n",
    "# Show the picture\n",
    "pil_image.show()"
   ]
  },
  {
   "cell_type": "code",
   "execution_count": null,
   "metadata": {},
   "outputs": [],
   "source": []
  }
 ],
 "metadata": {
  "kernelspec": {
   "display_name": "Python 3",
   "language": "python",
   "name": "python3"
  },
  "language_info": {
   "codemirror_mode": {
    "name": "ipython",
    "version": 3
   },
   "file_extension": ".py",
   "mimetype": "text/x-python",
   "name": "python",
   "nbconvert_exporter": "python",
   "pygments_lexer": "ipython3",
   "version": "3.7.4"
  }
 },
 "nbformat": 4,
 "nbformat_minor": 2
}
