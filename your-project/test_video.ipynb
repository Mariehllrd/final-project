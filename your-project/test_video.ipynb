{
 "cells": [
  {
   "cell_type": "code",
   "execution_count": null,
   "metadata": {},
   "outputs": [],
   "source": [
    "import cv2\n",
    "import numpy as np\n",
    "import sys\n",
    "\n",
    "cam = create_capture(video_src)\n",
    "\n",
    "cascPath = sys.argv[1]\n",
    "faceCascade = cv2.CascadeClassifier('haarcascade_frontalcatface_extended.xml')\n",
    "\n",
    "lower = np.array([0, 48, 80], dtype = \"uint8\")\n",
    "upper = np.array([20, 255, 255], dtype = \"uint8\")\n",
    "\n",
    "video_capture = cv2.VideoCapture(0)\n",
    "\n",
    "def face_detect():\n",
    "    while True:\n",
    "        # Capture frame-by-frame\n",
    "        ret, frame = video_capture.read()\n",
    "\n",
    "        gray = cv2.cvtColor(frame, cv2.COLOR_BGR2GRAY)\n",
    "\n",
    "        faces = faceCascade.detectMultiScale(\n",
    "            gray,\n",
    "            scaleFactor=1.1,\n",
    "            minNeighbors=5,\n",
    "            minSize=(30, 30),\n",
    "            flags=cv2.CASCADE_SCALE_IMAGE\n",
    "        )\n",
    "\n",
    "\n",
    "        # Draw a rectangle around the faces\n",
    "        for (x, y, w, h) in faces:\n",
    "            #face_region = cv2.GetSubRect(image,(x, y, x+w, y+h))\n",
    "            cv2.rectangle(frame, (x, y), (x+w, y+h), (0, 255, 0), 2)\n",
    "            face_region = frame[y:y+h, x:x+w]\n",
    "            converted = cv2.cvtColor(face_region, cv2.COLOR_BGR2HSV)\n",
    "            skinMask = cv2.inRange(converted, lower, upper)\n",
    "\n",
    "            # apply a series of erosions and dilations to the mask\n",
    "            # using an elliptical kernel\n",
    "            kernel = cv2.getStructuringElement(cv2.MORPH_ELLIPSE, (11, 11))\n",
    "            skinMask = cv2.erode(skinMask, kernel, iterations = 2)\n",
    "            skinMask = cv2.dilate(skinMask, kernel, iterations = 2)\n",
    "\n",
    "            # blur the mask to help remove noise, then apply the\n",
    "            # mask to the frame\n",
    "            skinMask = cv2.GaussianBlur(skinMask, (3, 3), 0)\n",
    "            skin = cv2.bitwise_and(face_region, face_region, mask = skinMask)\n",
    "\n",
    "            cv2.imshow(\"Face\", np.hstack([face_region, skin]))\n",
    "\n",
    "            # Further processing on only the face without the background.\n",
    "\n",
    "            #cv2.ellipse(frame, (x, y), (x+w, y+h), (0, 255, 0), 2)\n",
    "\n",
    "        # Display the resulting frame\n",
    "        cv2.imshow('Video', frame)\n",
    "\n",
    "        if cv2.waitKey(1) & 0xFF == ord('q'):\n",
    "            return\n",
    "\n",
    "face_detect()\n"
   ]
  },
  {
   "cell_type": "code",
   "execution_count": 6,
   "metadata": {},
   "outputs": [],
   "source": [
    "video_capture.release()\n",
    "cv2.destroyAllWindows()"
   ]
  },
  {
   "cell_type": "code",
   "execution_count": null,
   "metadata": {},
   "outputs": [],
   "source": []
  }
 ],
 "metadata": {
  "kernelspec": {
   "display_name": "Python 3",
   "language": "python",
   "name": "python3"
  },
  "language_info": {
   "codemirror_mode": {
    "name": "ipython",
    "version": 3
   },
   "file_extension": ".py",
   "mimetype": "text/x-python",
   "name": "python",
   "nbconvert_exporter": "python",
   "pygments_lexer": "ipython3",
   "version": "3.7.4"
  }
 },
 "nbformat": 4,
 "nbformat_minor": 2
}
