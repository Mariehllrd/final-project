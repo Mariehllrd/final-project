{
 "cells": [
  {
   "cell_type": "markdown",
   "metadata": {},
   "source": [
    "# Beta version\n",
    "Blur only the face (and not a rectangle across the face)"
   ]
  },
  {
   "cell_type": "code",
   "execution_count": null,
   "metadata": {},
   "outputs": [],
   "source": [
    "# import the libraries\n",
    "import face_recognition\n",
    "import cv2\n",
    "import numpy as np\n",
    "import os\n",
    "from os.path import isfile, join\n",
    "import re\n",
    "from PIL import Image, ImageDraw"
   ]
  },
  {
   "cell_type": "code",
   "execution_count": null,
   "metadata": {},
   "outputs": [],
   "source": [
    "# Open the input video file\n",
    "input_video = cv2.VideoCapture('./data/trump3.mp4')"
   ]
  },
  {
   "cell_type": "code",
   "execution_count": null,
   "metadata": {},
   "outputs": [],
   "source": [
    "# Store all frames as images\n",
    "n = 0\n",
    "\n",
    "while(input_video.isOpened()):\n",
    "    ret, frame = input_video.read()\n",
    "    \n",
    "    if ret == False:\n",
    "        break\n",
    "    \n",
    "    cv2.imwrite('./frames/frame' + str(n) + '.jpg', frame)\n",
    "    n += 1"
   ]
  },
  {
   "cell_type": "code",
   "execution_count": null,
   "metadata": {},
   "outputs": [],
   "source": [
    "# Load images\n",
    "pathIn = './frames/'\n",
    "\n",
    "frame_array = []\n",
    "files = [f for f in os.listdir(pathIn)]\n",
    "\n",
    "files.sort(key = lambda var:[int(x) if x.isdigit() else x for x in re.findall(r'[^0-9]|[0-9]+', var)])\n",
    "\n",
    "files = files[1:]\n",
    "\n",
    "for i in range(len(files)):\n",
    "    filename = pathIn + files[i]\n",
    "    \n",
    "    # Reading each files\n",
    "    img = cv2.imread(filename)\n",
    "    \n",
    "    # Inserting the frames into an image array\n",
    "    frame_array.append(img)"
   ]
  },
  {
   "cell_type": "code",
   "execution_count": null,
   "metadata": {},
   "outputs": [],
   "source": [
    "i = 0\n",
    "\n",
    "#Loop over all images to create mask\n",
    "for image in frame_array:\n",
    "    face_locations = face_recognition.face_locations(image)\n",
    "    face_landmarks_list = face_recognition.face_landmarks(image)\n",
    "    \n",
    "    for face_location in face_locations:\n",
    "\n",
    "        # Print the location of each face in this image\n",
    "        top, right, bottom, left = face_location\n",
    "        \n",
    "        # Create empty mask\n",
    "        mask = np.zeros(image.shape, dtype=np.uint8)\n",
    "        \n",
    "       # Create a PIL imagedraw object so we can draw on the picture\n",
    "        pil_image = Image.fromarray(mask)\n",
    "        d = ImageDraw.Draw(pil_image)\n",
    "        \n",
    "    for face_landmarks in face_landmarks_list:\n",
    "\n",
    "        left_eyebrow_top = min(face_landmarks['left_eyebrow'], key = lambda t: t[1])\n",
    "        right_eyebrow_top = min(face_landmarks['right_eyebrow'], key = lambda t: t[1])\n",
    "\n",
    "        points = []\n",
    "        points.insert(0, left_eyebrow_top)\n",
    "        points.insert(0, right_eyebrow_top)\n",
    "        points.insert(0, face_landmarks['chin'])\n",
    "\n",
    "        cleaned = [j for i in points for j in i]\n",
    "\n",
    "        d.polygon(cleaned, fill = 'white')\n",
    "    \n",
    "    # saving mask\n",
    "    i+=1 \n",
    "    pil_image = pil_image.save('./masks/mask' + str(i) + '.jpg')"
   ]
  },
  {
   "cell_type": "code",
   "execution_count": null,
   "metadata": {},
   "outputs": [],
   "source": [
    "# Load masks\n",
    "path = './masks/'\n",
    "\n",
    "mask_array = []\n",
    "masks = [f for f in os.listdir(path)]\n",
    "\n",
    "masks.sort(key = lambda var:[int(x) if x.isdigit() else x for x in re.findall(r'[^0-9]|[0-9]+', var)])\n",
    "\n",
    "masks = masks[1:]\n",
    "for i in range(len(masks)):\n",
    "    filename = path + masks[i]\n",
    "    \n",
    "    # Reading each files\n",
    "    img = cv2.imread(filename)\n",
    "    \n",
    "    # Inserting the frames into an image array\n",
    "    mask_array.append(img)"
   ]
  },
  {
   "cell_type": "code",
   "execution_count": null,
   "metadata": {},
   "outputs": [],
   "source": [
    "m = 0\n",
    "\n",
    "for img, mask in zip(frame_array, mask_array):\n",
    "    # Apply mask\n",
    "    blur = cv2.GaussianBlur(img, (45,45), 30)\n",
    "    blurred_img = np.where(mask != 0, blur, img)\n",
    "  \n",
    "    m += 1\n",
    "    \n",
    "    cv2.imwrite('./frames_masked/mask' + str(m) + '.jpg', blurred_img)"
   ]
  },
  {
   "cell_type": "code",
   "execution_count": null,
   "metadata": {},
   "outputs": [],
   "source": [
    "# Load images with blurred faces\n",
    "path = './frames_masked/'\n",
    "\n",
    "frames_masked = []\n",
    "masked = [f for f in os.listdir(path)]\n",
    "\n",
    "masked.sort(key = lambda var:[int(x) if x.isdigit() else x for x in re.findall(r'[^0-9]|[0-9]+', var)])\n",
    "\n",
    "for i in range(len(masked)):\n",
    "    filename = path + masked[i]\n",
    "    \n",
    "    #reading each files\n",
    "    img = cv2.imread(filename)\n",
    "    \n",
    "    #inserting the frames into an image array\n",
    "    frames_masked.append(img)\n",
    "    \n"
   ]
  },
  {
   "cell_type": "code",
   "execution_count": null,
   "metadata": {},
   "outputs": [],
   "source": [
    "fps = input_video.get(cv2.CAP_PROP_FPS)\n",
    "\n",
    "width  = int(input_video.get(3))\n",
    "height = int(input_video.get(4))\n",
    "\n",
    "out = cv2.VideoWriter('./result/blurred_trump.mp4', cv2.VideoWriter_fourcc(*'MP4V'), fps, (width, height))\n",
    "\n",
    "for i in range(len(frames_masked)):\n",
    "    out.write(frames_masked[i])\n",
    "\n",
    "input_video.release()\n",
    "out.release()"
   ]
  }
 ],
 "metadata": {
  "kernelspec": {
   "display_name": "Python 3",
   "language": "python",
   "name": "python3"
  },
  "language_info": {
   "codemirror_mode": {
    "name": "ipython",
    "version": 3
   },
   "file_extension": ".py",
   "mimetype": "text/x-python",
   "name": "python",
   "nbconvert_exporter": "python",
   "pygments_lexer": "ipython3",
   "version": "3.7.4"
  }
 },
 "nbformat": 4,
 "nbformat_minor": 4
}
