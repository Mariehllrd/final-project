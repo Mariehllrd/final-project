{
 "cells": [
  {
   "cell_type": "markdown",
   "metadata": {},
   "source": [
    "# Beta version\n",
    "Blur only the face (and not a rectangle across the face)"
   ]
  },
  {
   "cell_type": "code",
   "execution_count": 1,
   "metadata": {},
   "outputs": [],
   "source": [
    "import cv2\n",
    "import numpy as np\n",
    "\n",
    "from PIL import Image, ImageDraw\n",
    "import face_recognition"
   ]
  },
  {
   "cell_type": "code",
   "execution_count": null,
   "metadata": {},
   "outputs": [],
   "source": [
    "video_capture = cv2.VideoCapture(0)\n",
    "\n",
    "while True:\n",
    "    ret, frame = video_capture.read()\n",
    "    \n",
    "    # Resize frame of video to 1/4 size for faster face detection processing\n",
    "    small_frame = cv2.resize(frame, (0, 0), fx=0.25, fy=0.25)\n",
    "\n",
    "    # Find all the faces and face encodings in the current frame of video\n",
    "    face_locations = face_recognition.face_locations(small_frame)\n",
    "    face_landmarks_list = face_recognition.face_landmarks(small_frame)\n",
    "    \n",
    "\n",
    "    # Create empty mask\n",
    "    mask = np.zeros(small_frame.shape, dtype=np.uint8)\n",
    "        \n",
    "   # Create a PIL imagedraw object so we can draw on the picture\n",
    "    pil_image = Image.fromarray(mask)\n",
    "    d = ImageDraw.Draw(pil_image)\n",
    "    \n",
    "    # Draw mask\n",
    "    for face_landmarks in face_landmarks_list:\n",
    "\n",
    "        left_eyebrow_top = min(face_landmarks['left_eyebrow'], key = lambda t: t[1])\n",
    "        right_eyebrow_top = min(face_landmarks['right_eyebrow'], key = lambda t: t[1])\n",
    "\n",
    "        points = []\n",
    "        points.insert(0, left_eyebrow_top)\n",
    "        points.insert(0, right_eyebrow_top)\n",
    "        points.insert(0, face_landmarks['chin'])\n",
    "\n",
    "        cleaned = [j for i in points for j in i]\n",
    "\n",
    "    d.polygon(cleaned, fill = 'white')\n",
    " \n",
    "    # Apply mask\n",
    "    blur = cv2.GaussianBlur(small_frame, (45,45), 30)\n",
    "    blurred_img = np.where(d != 0, blur, small_frame)\n",
    "\n",
    "    # Hit 'q' on the keyboard to quit\n",
    "    if cv2.waitKey(1) & 0xFF == ord('q'):\n",
    "        break"
   ]
  },
  {
   "cell_type": "code",
   "execution_count": null,
   "metadata": {},
   "outputs": [],
   "source": [
    "video_capture.release()\n",
    "cv2.destroyAllWindows()"
   ]
  },
  {
   "cell_type": "code",
   "execution_count": null,
   "metadata": {},
   "outputs": [],
   "source": []
  }
 ],
 "metadata": {
  "kernelspec": {
   "display_name": "Python 3",
   "language": "python",
   "name": "python3"
  },
  "language_info": {
   "codemirror_mode": {
    "name": "ipython",
    "version": 3
   },
   "file_extension": ".py",
   "mimetype": "text/x-python",
   "name": "python",
   "nbconvert_exporter": "python",
   "pygments_lexer": "ipython3",
   "version": "3.7.4"
  }
 },
 "nbformat": 4,
 "nbformat_minor": 4
}
