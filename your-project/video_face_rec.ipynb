{
 "cells": [
  {
   "cell_type": "markdown",
   "metadata": {},
   "source": [
    "# Facial recognition on video clips"
   ]
  },
  {
   "cell_type": "code",
   "execution_count": null,
   "metadata": {},
   "outputs": [],
   "source": [
    "# import the libraries\n",
    "import face_recognition\n",
    "import cv2\n",
    "import numpy as np\n",
    "import os\n",
    "from os.path import isfile, join\n",
    "import re"
   ]
  },
  {
   "cell_type": "code",
   "execution_count": null,
   "metadata": {},
   "outputs": [],
   "source": [
    "# Open the input video file\n",
    "input_video = cv2.VideoCapture('./data/trump2.mp4')"
   ]
  },
  {
   "cell_type": "code",
   "execution_count": null,
   "metadata": {},
   "outputs": [],
   "source": [
    "# Store all frames as images\n",
    "n = 0\n",
    "\n",
    "while(input_video.isOpened()):\n",
    "    ret, frame = input_video.read()\n",
    "    \n",
    "    if ret == False:\n",
    "        break\n",
    "    \n",
    "    cv2.imwrite('./frames/frame' + str(n) + '.jpg', frame)\n",
    "    n += 1"
   ]
  },
  {
   "cell_type": "code",
   "execution_count": null,
   "metadata": {},
   "outputs": [],
   "source": [
    "# Load images\n",
    "pathIn = './frames/'\n",
    "\n",
    "frame_array = []\n",
    "files = [f for f in os.listdir(pathIn)]\n",
    "\n",
    "files.sort(key = lambda var:[int(x) if x.isdigit() else x for x in re.findall(r'[^0-9]|[0-9]+', var)])\n",
    "\n",
    "files = files[1:]\n",
    "\n",
    "for i in range(len(files)):\n",
    "    filename = pathIn + files[i]\n",
    "    \n",
    "    # Reading each files\n",
    "    img = cv2.imread(filename)\n",
    "    \n",
    "    # Inserting the frames into an image array\n",
    "    frame_array.append(img)"
   ]
  },
  {
   "cell_type": "code",
   "execution_count": null,
   "metadata": {},
   "outputs": [],
   "source": [
    "# Encode trump's face\n",
    "trump_image_1 = cv2.imread(\"./data/donald_trump.jpg\")\n",
    "trump_image_2 = cv2.imread(\"./data/donald_trump_2.jpg\")\n",
    "trump_image_3 = cv2.imread(\"./data/donald_trump_3.jpg\")\n",
    "\n",
    "trump_encoding_1 = face_recognition.face_encodings(trump_image_1)[0]\n",
    "trump_encoding_2 = face_recognition.face_encodings(trump_image_2)[0]\n",
    "trump_encoding_3 = face_recognition.face_encodings(trump_image_3)[0]\n",
    "\n",
    "known_face_encodings = [trump_encoding_1, \n",
    "                        trump_encoding_2, \n",
    "                        trump_encoding_3]"
   ]
  },
  {
   "cell_type": "code",
   "execution_count": null,
   "metadata": {},
   "outputs": [],
   "source": [
    "i = 0\n",
    "\n",
    "#Loop over all images\n",
    "\n",
    "for image in frame_array:\n",
    "    face_locations = face_recognition.face_locations(image)\n",
    "    face_encodings = face_recognition.face_encodings(image, face_locations)\n",
    "    \n",
    "    # Matches\n",
    "    face_names = []\n",
    "\n",
    "    for face_encoding in face_encodings:\n",
    "        matches = face_recognition.compare_faces(known_face_encodings, face_encoding)\n",
    "\n",
    "        name = None\n",
    "        if matches[0]:\n",
    "            name = \"Donald Trump\"\n",
    "\n",
    "        face_names.append(name)\n",
    "\n",
    "    for (top, right, bottom, left), name in zip(face_locations, face_names):\n",
    "            if not name:\n",
    "                continue\n",
    "\n",
    "            # Draw a box around the face\n",
    "            cv2.rectangle(image, (left, top), (right, bottom), (0, 0, 0), 1)\n",
    "\n",
    "            # Draw a label with a name below the face\n",
    "            cv2.rectangle(image, (left, bottom + 30), (right, bottom), (0, 0, 0), cv2.FILLED)\n",
    "            font = cv2.FONT_HERSHEY_DUPLEX\n",
    "            cv2.putText(image, name, (left + 30, bottom + 20), font, 0.8, (255, 255, 255), 1)\n",
    "    \n",
    "    # Save result images\n",
    "    i+=1        \n",
    "    cv2.imwrite('./frames_rec/frame' + str(i) + '.jpg',image)"
   ]
  },
  {
   "cell_type": "code",
   "execution_count": null,
   "metadata": {},
   "outputs": [],
   "source": [
    "# Load images with face rec\n",
    "path = './frames_rec/'\n",
    "\n",
    "frame_array2 = []\n",
    "files2 = [f for f in os.listdir(path)]\n",
    "\n",
    "files2.sort(key = lambda var:[int(x) if x.isdigit() else x for x in re.findall(r'[^0-9]|[0-9]+', var)])\n",
    "\n",
    "for i in range(len(files2)):\n",
    "    filename = path + files2[i]\n",
    "    \n",
    "    #reading each files\n",
    "    img = cv2.imread(filename)\n",
    "    \n",
    "    #inserting the frames into an image array\n",
    "    frame_array2.append(img)"
   ]
  },
  {
   "cell_type": "code",
   "execution_count": null,
   "metadata": {},
   "outputs": [],
   "source": [
    "fps = input_video.get(cv2.CAP_PROP_FPS)\n",
    "\n",
    "width  = int(input_video.get(3))\n",
    "height = int(input_video.get(4))\n",
    "\n",
    "out = cv2.VideoWriter('./result/where_is_trump2.mp4', cv2.VideoWriter_fourcc(*'MP4V'), fps, (width, height))\n",
    "\n",
    "for i in range(len(frame_array)):\n",
    "    out.write(frame_array[i])\n",
    "\n",
    "input_video.release()\n",
    "out.release()"
   ]
  }
 ],
 "metadata": {
  "kernelspec": {
   "display_name": "Python 3",
   "language": "python",
   "name": "python3"
  },
  "language_info": {
   "codemirror_mode": {
    "name": "ipython",
    "version": 3
   },
   "file_extension": ".py",
   "mimetype": "text/x-python",
   "name": "python",
   "nbconvert_exporter": "python",
   "pygments_lexer": "ipython3",
   "version": "3.7.4"
  }
 },
 "nbformat": 4,
 "nbformat_minor": 2
}
